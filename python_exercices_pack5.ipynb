{
 "cells": [
  {
   "cell_type": "markdown",
   "metadata": {},
   "source": [
    "## Exercice 1: Nombre pair ou impaire avec boucle"
   ]
  },
  {
   "cell_type": "markdown",
   "metadata": {},
   "source": [
    "Tâche : Écrivez un programme qui demande 5 nombres à l'utilisateur et affiche pour chacun s'il est pair ou impair."
   ]
  },
  {
   "cell_type": "code",
   "execution_count": 1,
   "metadata": {},
   "outputs": [
    {
     "name": "stdout",
     "output_type": "stream",
     "text": [
      "4 est pair.\n",
      "5 est impair.\n",
      "3 est impair.\n",
      "6 est pair.\n",
      "5 est impair.\n"
     ]
    }
   ],
   "source": [
    "for _ in range(5):\n",
    "    nombre = int(input('entrez un nombre: '))\n",
    "    if nombre % 2 == 0 :\n",
    "        print('{} est pair.'.format(nombre))\n",
    "    else:\n",
    "        print('{} est impair.'.format(nombre))"
   ]
  },
  {
   "cell_type": "markdown",
   "metadata": {},
   "source": [
    "## Exercice 2 : inverser une liste\n"
   ]
  },
  {
   "cell_type": "markdown",
   "metadata": {},
   "source": [
    "Tâche : Écrivez un programme qui demande 5 nombres à l'utilisateur, les stocke dans une liste, puis affiche la liste dans l'ordre inversé."
   ]
  },
  {
   "cell_type": "code",
   "execution_count": null,
   "metadata": {},
   "outputs": [
    {
     "name": "stdout",
     "output_type": "stream",
     "text": [
      "avant\n",
      "[43, 5, 25, 25, 323]\n",
      "apres\n",
      "[323, 25, 25, 5, 43]\n"
     ]
    }
   ],
   "source": [
    "nombre = []\n",
    "\n",
    "for n in range(5):\n",
    "    n = int(input('entrez un nombre: '))\n",
    "    nombre.append(n)\n",
    "print('avant')\n",
    "print(nombre)\n",
    "nombre = list(reversed(nombre)) # revesed une fonction qui return l'inverse\n",
    "print('apres')\n",
    "print(nombre)"
   ]
  },
  {
   "cell_type": "markdown",
   "metadata": {},
   "source": [
    "## Exercice 3 : trouver le maximum d'ne list\n"
   ]
  },
  {
   "cell_type": "markdown",
   "metadata": {},
   "source": [
    "Tâche : Demandez à l'utilisateur d'entrer 5 nombres. Trouvez et affichez le plus grand de ces nombres sans utiliser la fonction max"
   ]
  },
  {
   "cell_type": "code",
   "execution_count": null,
   "metadata": {},
   "outputs": [
    {
     "name": "stdout",
     "output_type": "stream",
     "text": [
      "25585\n"
     ]
    }
   ],
   "source": [
    "nombres = []\n",
    "\n",
    "for _ in range(5):\n",
    "    nombres.append(int(input('entrez un nombre')))\n",
    "\n",
    "max_num = nombres[0] # on va commencer et supposer que le premier element est le plus grand\n",
    "for n in nombres:\n",
    "    if n > max_num: # si le nombre dans la liste est plus que le premier\n",
    "        max_num = n \n",
    "print('le plus grand nombre dans la list des 5 nombres est {}'.format(max_num))"
   ]
  },
  {
   "cell_type": "markdown",
   "metadata": {},
   "source": [
    "## Exercice 4: calculert la somme des chiffres d'un nombre \n"
   ]
  },
  {
   "cell_type": "markdown",
   "metadata": {},
   "source": [
    "Tâche : Écrivez un programme qui demande un nombre entier et calcule la somme de ses chiffres.\n",
    "Exemple : pour 1234, le résultat sera 1 + 2 + 3 + 4 = 10."
   ]
  },
  {
   "cell_type": "markdown",
   "metadata": {},
   "source": [
    "Tâche : Écrivez un programme qui demande un nombre entier et calcule la somme de ses chiffres.\n",
    "Exemple : pour 1234, le résultat sera 1 + 2 + 3 + 4 = 10.\n"
   ]
  },
  {
   "cell_type": "markdown",
   "metadata": {},
   "source": [
    "- method complexe (bien pour maitrise des fonction (build in functions))"
   ]
  },
  {
   "cell_type": "code",
   "execution_count": 6,
   "metadata": {},
   "outputs": [
    {
     "name": "stdout",
     "output_type": "stream",
     "text": [
      "la somme des chifres dans votre nombre est: 9\n"
     ]
    }
   ],
   "source": [
    "nombre = int(input('entrez un nobre: '))\n",
    "\n",
    "nombre_str = str(nombre) # transformer nomrbre vers str \n",
    "nombre_str_list = [c for c in nombre_str] # ajouter chaque chiffre vers une list\n",
    "nombre_str_list_int = list(map(int, nombre_str_list)) # \n",
    "somme = sum(nombre_str_list_int)\n",
    "\n",
    "print('la somme des chifres dans votre nombre est: {}'.format(somme))"
   ]
  },
  {
   "cell_type": "markdown",
   "metadata": {},
   "source": [
    "- method direct"
   ]
  },
  {
   "cell_type": "code",
   "execution_count": 7,
   "metadata": {},
   "outputs": [
    {
     "name": "stdout",
     "output_type": "stream",
     "text": [
      "la somme des chifres dans votre nombre est: 20\n"
     ]
    }
   ],
   "source": [
    "nombre = int(input('entrez un nobre: ')) \n",
    "somme = 0 \n",
    "for n in str(nombre):\n",
    "    somme += int(n)\n",
    "print('la somme des chifres dans votre nombre est: {}'.format(somme))"
   ]
  },
  {
   "cell_type": "markdown",
   "metadata": {},
   "source": [
    "## Exercice 5: FizzBuzz"
   ]
  },
  {
   "cell_type": "markdown",
   "metadata": {},
   "source": [
    "Tâche : Écrivez un programme qui affiche les nombres de 1 à 30. Pour chaque nombre :\n",
    "\n",
    "- Affichez \"Fizz\" s'il est divisible par 3.\n",
    "- Affichez \"Buzz\" s'il est divisible par 5.\n",
    "- Affichez \"FizzBuzz\" s'il est divisible par 3 et 5.\n",
    "- Sinon, affichez simplement le nombre."
   ]
  },
  {
   "cell_type": "code",
   "execution_count": null,
   "metadata": {},
   "outputs": [],
   "source": [
    "for n in range(30):\n",
    "    if n % 3 :\n",
    "        print('Fizz')\n",
    "    elif n % 5:\n",
    "        print('Buzz')\n",
    "    elif n % 3 & n % 5:\n",
    "        print('FizzBuzz')\n",
    "    else:\n",
    "        print(n)"
   ]
  },
  {
   "cell_type": "markdown",
   "metadata": {},
   "source": [
    "## Exercice 6: generateur de mots de passe "
   ]
  },
  {
   "cell_type": "markdown",
   "metadata": {},
   "source": [
    "Tâche : Écrivez un programme qui génère un mot de passe PIN de 4 nombre.\n",
    "(Hint : Utilisez le module random.)"
   ]
  },
  {
   "cell_type": "code",
   "execution_count": 10,
   "metadata": {},
   "outputs": [
    {
     "name": "stdout",
     "output_type": "stream",
     "text": [
      "3795\n"
     ]
    }
   ],
   "source": [
    "from random import randint\n",
    "\n",
    "PIN = randint(1000, 10000)\n",
    "print(PIN)"
   ]
  },
  {
   "cell_type": "markdown",
   "metadata": {},
   "source": [
    "Tâche : Écrivez un programme qui génère un mot de passe aléatoire de 8 caractères. Utilisez les lettres minuscules, majuscules et les chiffres.\n",
    "(Hint : Utilisez le module random.)"
   ]
  },
  {
   "cell_type": "code",
   "execution_count": 11,
   "metadata": {},
   "outputs": [
    {
     "name": "stdout",
     "output_type": "stream",
     "text": [
      "Mot de pass generer est: FubWFY3x\n"
     ]
    }
   ],
   "source": [
    "import random \n",
    "import string\n",
    "\n",
    "caracters = string.ascii_letters + string.digits\n",
    "mot_de_pass = ''.join(random.choice(caracters) for _ in range(8))\n",
    "\n",
    "print('Mot de pass generer est: {}'.format(mot_de_pass))"
   ]
  },
  {
   "cell_type": "markdown",
   "metadata": {},
   "source": [
    "## Exercice 7 : compteur les voyelles dans une chaine"
   ]
  },
  {
   "cell_type": "code",
   "execution_count": null,
   "metadata": {},
   "outputs": [],
   "source": [
    "chaine = input('entrez une chaine: ')\n",
    "voyelles = \"aeiouyAEIOUY\"\n",
    "v_compteur = 0\n",
    "for letter in chaine:\n",
    "    if letter in voyelles:\n",
    "        v_compteur += 1\n",
    "\n",
    "print(\"dans votre chaine le nombre des voyelles est: {}\".format(v_compteur))\n"
   ]
  },
  {
   "cell_type": "markdown",
   "metadata": {},
   "source": []
  }
 ],
 "metadata": {
  "kernelspec": {
   "display_name": "Python 3",
   "language": "python",
   "name": "python3"
  },
  "language_info": {
   "codemirror_mode": {
    "name": "ipython",
    "version": 3
   },
   "file_extension": ".py",
   "mimetype": "text/x-python",
   "name": "python",
   "nbconvert_exporter": "python",
   "pygments_lexer": "ipython3",
   "version": "3.13.1"
  }
 },
 "nbformat": 4,
 "nbformat_minor": 2
}
