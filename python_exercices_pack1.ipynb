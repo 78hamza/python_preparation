{
 "cells": [
  {
   "cell_type": "markdown",
   "metadata": {},
   "source": [
    "# Exercice 1 : basic syntax and input/output"
   ]
  },
  {
   "cell_type": "markdown",
   "metadata": {},
   "source": [
    "1. write a python protam that asks the user for their namd and age, then prints a message lik `Bonjour [name]! Vous avez [Age] ans.`"
   ]
  },
  {
   "cell_type": "code",
   "execution_count": null,
   "metadata": {},
   "outputs": [],
   "source": [
    "name = input('enter your name: ')\n",
    "age = int(input('enter your age: '))\n",
    "\n",
    "print('Bonjour {}! Vous avez {} ans.'.format(name, age))"
   ]
  },
  {
   "cell_type": "markdown",
   "metadata": {},
   "source": [
    "2. write a program that calculates and prints the area of a rectangel. ask the user for the length and width"
   ]
  },
  {
   "cell_type": "code",
   "execution_count": null,
   "metadata": {},
   "outputs": [],
   "source": [
    "length = float(input('enter the length of the rectangle: '))\n",
    "width = float(input('enter the  of the rectangle: '))\n",
    "\n",
    "area = length * width \n",
    "print('The area of the rectangle is {}'.format(area))"
   ]
  },
  {
   "cell_type": "markdown",
   "metadata": {},
   "source": [
    "# Exercice 2 : calculations and operators"
   ]
  },
  {
   "cell_type": "markdown",
   "metadata": {},
   "source": [
    "1. wrtie a program that takes two number s as input and prints\n",
    "- The sum\n",
    "\n",
    "- The difference\n",
    "\n",
    "- The product\n",
    "\n",
    "- The quotient (division)\n",
    "\n",
    "- The remainder (modulo)"
   ]
  },
  {
   "cell_type": "code",
   "execution_count": null,
   "metadata": {},
   "outputs": [],
   "source": [
    "num1 = int(input('enter the values of the first number: '))\n",
    "num2 = int(input('enter the values of the second number: '))\n",
    "\n",
    "# the sum \n",
    "somme = num1 + num2\n",
    "print(f'the sum of two numbers is {somme}')\n",
    "# the difference \n",
    "diff = num1 - num2\n",
    "print(f'the difference of two numbers is {diff}')\n",
    "# the product\n",
    "product = num1 * num1\n",
    "print(f'the product of two numbers is {product}')\n",
    "# the quotion(division)\n",
    "division = num1 / num2\n",
    "print(f'the division of two numbers is {division}')\n",
    "# the remainder (modulo)\n",
    "remainder = num1 % num2\n",
    "print(remainder)"
   ]
  },
  {
   "cell_type": "markdown",
   "metadata": {},
   "source": [
    "2. write a program that converts a temperature from Celsius to Fahrenheit"
   ]
  },
  {
   "cell_type": "code",
   "execution_count": null,
   "metadata": {},
   "outputs": [],
   "source": [
    "Temperature_Celsius  = float(input('enter the value of the temperature on Celsius: '))\n",
    "\n",
    "Temperature_converted_Fahrenheit  = (Temperature_Celsius * 9/5) + 32\n",
    "print(f'The temperature you just entered is {Temperature_converted_Fahrenheit} Fahreneit')"
   ]
  },
  {
   "cell_type": "markdown",
   "metadata": {},
   "source": [
    "# Exercice 3: conditionals (if/else)"
   ]
  },
  {
   "cell_type": "markdown",
   "metadata": {},
   "source": [
    "1. write a program that asks the user for  a number and print whether it si positive, negative, or zero:"
   ]
  },
  {
   "cell_type": "code",
   "execution_count": null,
   "metadata": {},
   "outputs": [],
   "source": [
    "number = int(input('enter a integer to check: '))\n",
    "\n",
    "if number > 0:\n",
    "    print('positive')\n",
    "elif number == 0:\n",
    "    print('zero')\n",
    "else:\n",
    "    print('negative')"
   ]
  },
  {
   "cell_type": "markdown",
   "metadata": {},
   "source": [
    "2. write a program that check if  number is even or odd and prints the result\n"
   ]
  },
  {
   "cell_type": "code",
   "execution_count": null,
   "metadata": {},
   "outputs": [],
   "source": [
    "number = 5\n",
    "if number % 2 == 0:\n",
    "    print('even')\n",
    "else :\n",
    "    print('odd')"
   ]
  },
  {
   "cell_type": "markdown",
   "metadata": {},
   "source": [
    "3. write a progr5aqm that asks teh user fot their age and prints:\n",
    "    - \"vous etes mineur\" if the age is less than 18.\n",
    "    - \"vous etes majour\" if the age is 18 or older.\n",
    "    "
   ]
  },
  {
   "cell_type": "code",
   "execution_count": null,
   "metadata": {},
   "outputs": [],
   "source": [
    "age = int(input('enter your age: '))\n",
    "if age > 0:\n",
    "    if age >= 18:\n",
    "        print(\"vous etes majeur\")\n",
    "    else:\n",
    "        print('vous etes mineur')\n",
    "else:\n",
    "    print('the age must be greater then 0!!')"
   ]
  },
  {
   "cell_type": "markdown",
   "metadata": {},
   "source": [
    "# Exercice 4 : loops (for/while)"
   ]
  },
  {
   "cell_type": "markdown",
   "metadata": {},
   "source": [
    "1. wrtie a program that prints the first 10 numbers in the Fibonacci using a for loop"
   ]
  },
  {
   "cell_type": "code",
   "execution_count": null,
   "metadata": {},
   "outputs": [],
   "source": [
    "a, b = 0, 1\n",
    "\n",
    "print(\"the first 10 numbers in the Fibonacci sequece are: \")\n",
    "\n",
    "for i in range(10):\n",
    "    print(a, end=\" \")\n",
    "    a, b = b, a+b"
   ]
  },
  {
   "cell_type": "markdown",
   "metadata": {},
   "source": [
    "2. wrtie a progra that uses a while loop to keep asking the user for  anumber until they enter a number greater than 100"
   ]
  },
  {
   "cell_type": "code",
   "execution_count": null,
   "metadata": {},
   "outputs": [],
   "source": [
    "number = int(input('enter a number greater then 100: '))\n",
    "\n",
    "while True:\n",
    "    if number <= 100:\n",
    "        print(\"try again\")\n",
    "        number = int(input('enter a number greater then 100: '))\n",
    "    else:\n",
    "        print(\"end program\")\n",
    "        break"
   ]
  },
  {
   "cell_type": "markdown",
   "metadata": {},
   "source": [
    "3. write a program that pring the multiplication table fo a number entered b the user (from 1, to 10)"
   ]
  },
  {
   "cell_type": "code",
   "execution_count": 13,
   "metadata": {},
   "outputs": [
    {
     "name": "stdout",
     "output_type": "stream",
     "text": [
      "1 * 5 = 5\n",
      "2 * 5 = 10\n",
      "3 * 5 = 15\n",
      "4 * 5 = 20\n",
      "5 * 5 = 25\n",
      "6 * 5 = 30\n",
      "7 * 5 = 35\n",
      "8 * 5 = 40\n",
      "9 * 5 = 45\n",
      "10 * 5 = 50\n"
     ]
    }
   ],
   "source": [
    "n = 5\n",
    "for i in range(1, 11):\n",
    "    result = i * n\n",
    "    print(f'{i} * {n} = {result}')"
   ]
  },
  {
   "cell_type": "markdown",
   "metadata": {},
   "source": [
    "# Exercice 5 : strings"
   ]
  },
  {
   "cell_type": "markdown",
   "metadata": {},
   "source": [
    "1. wrtei a program that asks the user for a word and prints:\n",
    "    - the length of the word\n",
    "    - the word in uppercase\n",
    "    - the word in lowercase"
   ]
  },
  {
   "cell_type": "code",
   "execution_count": null,
   "metadata": {},
   "outputs": [],
   "source": [
    "string = input('enter a string contain uppercase and lowercase words : ')\n",
    "\n",
    "string_length = len(string)\n",
    "print(f'the length of the string is {string_length}')\n",
    "\n",
    "# the word in uppercase and in lowercase\n",
    "string = string.split()\n",
    "word_upper = []\n",
    "word_lower = []\n",
    "for c in string:\n",
    "    if c.isupper():\n",
    "        word_upper.append(c)\n",
    "    elif c.islower():\n",
    "        word_lower.append(c)\n",
    "print(f'the words in uppercase are {word_upper}\\nand the words in lowercase are {word_lower}')\n"
   ]
  },
  {
   "cell_type": "markdown",
   "metadata": {},
   "source": [
    "2. wrtie a program that reverses a string entered by the user.\n"
   ]
  },
  {
   "cell_type": "code",
   "execution_count": null,
   "metadata": {},
   "outputs": [],
   "source": [
    "string = input('enter a text to reverse: ')\n",
    "\n",
    "string_reversed = list(reversed(string))\n",
    "string_reversed = \"\".join(string_reversed)\n",
    "print(f'the string reversed is {string_reversed}')"
   ]
  },
  {
   "cell_type": "markdown",
   "metadata": {},
   "source": [
    "3. write a program that checks if a string enterd by the user is a palindrome (reads the same backward as forward)"
   ]
  },
  {
   "cell_type": "code",
   "execution_count": null,
   "metadata": {},
   "outputs": [],
   "source": [
    "word = input('enter a word to check: ')\n",
    "\n",
    "word_letter = []\n",
    "for c in word:\n",
    "    word_letter.append(c)\n",
    "word_letter_reversed = list(reversed(word_letter))\n",
    "\n",
    "if word_letter == word_letter_reversed :\n",
    "    print(True)\n",
    "else :\n",
    "    print(False)"
   ]
  },
  {
   "cell_type": "markdown",
   "metadata": {},
   "source": [
    "# Exercice 6: lists"
   ]
  },
  {
   "cell_type": "markdown",
   "metadata": {},
   "source": [
    "1. write a program that creates a list of 5 numbers and prints:\n",
    "    - the sum of all numbers\n",
    "    - the largest number in the list\n",
    "    - the smalles number in the list"
   ]
  },
  {
   "cell_type": "code",
   "execution_count": null,
   "metadata": {},
   "outputs": [],
   "source": [
    "liste = [23, 3, 44, 453]\n",
    "\n",
    "# the sum \n",
    "print(f'the sum of all numbers is {sum(liste)}')\n",
    "\n",
    "# the largest number\n",
    "print(f'the largest number is {max(liste)}')\n",
    "\n",
    "# the smallest \n",
    "print(f'the smallest number is {min(liste)}')"
   ]
  },
  {
   "cell_type": "markdown",
   "metadata": {},
   "source": [
    "2. write a program that removes all duplicates froom a list and prints the updated list"
   ]
  },
  {
   "cell_type": "code",
   "execution_count": 30,
   "metadata": {},
   "outputs": [
    {
     "name": "stdout",
     "output_type": "stream",
     "text": [
      "the updated list is [3, 453, 44, 23, 25]\n"
     ]
    }
   ],
   "source": [
    "liste = [23, 3, 44, 453, 23, 25, 3]\n",
    "\n",
    "list_set = set(liste)\n",
    "\n",
    "print(f'the updated list is {list(list_set)}')"
   ]
  },
  {
   "cell_type": "markdown",
   "metadata": {},
   "source": [
    "3. wrtie a program that asks the user for 5 names, store theme in a list, and then prints the list in alphabetical order"
   ]
  },
  {
   "cell_type": "code",
   "execution_count": 33,
   "metadata": {},
   "outputs": [
    {
     "name": "stdout",
     "output_type": "stream",
     "text": [
      "enter 5 names\n",
      "['anouar', 'hamza', 'hassan', 'mohammed', 'ridouan']\n"
     ]
    }
   ],
   "source": [
    "print('enter 5 names')\n",
    "# add the names to the list\n",
    "names = []\n",
    "for name in range(5):\n",
    "    name = input('>>>')\n",
    "    names.append(name)\n",
    "\n",
    "# print the list in alphabetical order\n",
    "\n",
    "names.sort()\n",
    "print(names)"
   ]
  },
  {
   "cell_type": "markdown",
   "metadata": {},
   "source": []
  }
 ],
 "metadata": {
  "kernelspec": {
   "display_name": "Python 3",
   "language": "python",
   "name": "python3"
  },
  "language_info": {
   "codemirror_mode": {
    "name": "ipython",
    "version": 3
   },
   "file_extension": ".py",
   "mimetype": "text/x-python",
   "name": "python",
   "nbconvert_exporter": "python",
   "pygments_lexer": "ipython3",
   "version": "3.13.1"
  }
 },
 "nbformat": 4,
 "nbformat_minor": 2
}
