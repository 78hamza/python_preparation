{
 "cells": [
  {
   "cell_type": "markdown",
   "metadata": {},
   "source": [
    "## Python exercices pack N.2 with Bouzian"
   ]
  },
  {
   "cell_type": "markdown",
   "metadata": {},
   "source": [
    "# Exercice 1: basic syntax and input/output"
   ]
  },
  {
   "cell_type": "markdown",
   "metadata": {},
   "source": [
    "1. write a program that asks the user for their favorite color and prints:\n",
    "    Votre couleur prefere est [color]"
   ]
  },
  {
   "cell_type": "code",
   "execution_count": null,
   "metadata": {},
   "outputs": [],
   "source": [
    "fav_color = input(\"c'est quoi votre prefer coleur: \")\n",
    "\n",
    "print(\"votre prefer coleur est {}\".format(fav_color))"
   ]
  },
  {
   "cell_type": "markdown",
   "metadata": {},
   "source": [
    "2. wrte a progra that calculates the preimeter of a square. ask the user for the lengeht of one side."
   ]
  },
  {
   "cell_type": "code",
   "execution_count": null,
   "metadata": {},
   "outputs": [],
   "source": [
    "length = float(input('what is the length of one side: '))\n",
    "\n",
    "perimetre = length * 4\n",
    "print('the perimetre of the square is {}'.format(perimetre))"
   ]
  },
  {
   "cell_type": "markdown",
   "metadata": {},
   "source": [
    "3. wirte a programthat askd the user for their birth year and calculates their age:\n"
   ]
  },
  {
   "cell_type": "code",
   "execution_count": null,
   "metadata": {},
   "outputs": [],
   "source": [
    "birth = int(input(\"enter your birth: \"))\n",
    "age = 2025 - birth\n",
    "print(f\"from your birth input you have {age} years old.\")"
   ]
  },
  {
   "cell_type": "markdown",
   "metadata": {},
   "source": [
    "# Exercice 2 : calcualtions and operators \n"
   ]
  },
  {
   "cell_type": "markdown",
   "metadata": {},
   "source": [
    "1. write a program that calculates the volume of a sphere: "
   ]
  },
  {
   "cell_type": "code",
   "execution_count": null,
   "metadata": {},
   "outputs": [],
   "source": [
    "import math\n",
    "r = float(input('enter the radius r value: '))\n",
    "\n",
    "volume = (4/3) * math.pi * r**3\n",
    "print('the volume of the sphere is {:.2f}'.format(volume))"
   ]
  },
  {
   "cell_type": "markdown",
   "metadata": {},
   "source": [
    "2. write a program that converts a distance from kilometers to miles:\n"
   ]
  },
  {
   "cell_type": "code",
   "execution_count": null,
   "metadata": {},
   "outputs": [],
   "source": [
    "dis_kilo = float(input('enter the distance you want to convert from kilometer to mile:  '))\n",
    "\n",
    "dis_con = dis_kilo * 0.621371\n",
    "print(\"the distance on miles is {:.2f}\".format(dis_con))"
   ]
  },
  {
   "cell_type": "markdown",
   "metadata": {},
   "source": [
    "3. wrtie a program that calculates the hypotenuse of a right triangle eusing the pythagoream theorem:\n",
    "    - Hypotenuse = √(a² + b²)"
   ]
  },
  {
   "cell_type": "code",
   "execution_count": null,
   "metadata": {},
   "outputs": [],
   "source": [
    "import math\n",
    "print(\"enter hte length of the two sides a and b\")\n",
    "a = float(input('enter the a value: '))\n",
    "b = float(input('enter the b value: '))\n",
    "\n",
    "hypotenuse = math.sqrt(a**2 + b**2)\n",
    "print(\"the hypotenuse of the triangle is {:.2f}\".format(hypotenuse))"
   ]
  },
  {
   "cell_type": "markdown",
   "metadata": {},
   "source": [
    "# Exercice 3 : conditionals (if/else)"
   ]
  },
  {
   "cell_type": "markdown",
   "metadata": {},
   "source": [
    "1. write a program that asks the user for a number and check if it is deivisible by both 3 and 5"
   ]
  },
  {
   "cell_type": "code",
   "execution_count": null,
   "metadata": {},
   "outputs": [],
   "source": [
    "number = int(input('enter a number to ckeck: '))\n",
    "\n",
    "if number % 3 == 0 and number % 5 == 0 :\n",
    "    print(True)\n",
    "else :\n",
    "    print(False)"
   ]
  },
  {
   "cell_type": "markdown",
   "metadata": {},
   "source": [
    "2. wrtie a program that asks the user for their grad (0-20) and prints:\n",
    "    - \"Très bien\" if the grade is 16 or higher.\n",
    "\n",
    "    - \"Bien\" if the grade is between 14 and 15.\n",
    "\n",
    "    - \"Assez bien\" if the grade is between 12 and 13.\n",
    "\n",
    "    - \"Passable\" if the grade is between 10 and 11.\n",
    "\n",
    "    - \"Insuffisant\" if the grade is below 10."
   ]
  },
  {
   "cell_type": "code",
   "execution_count": null,
   "metadata": {},
   "outputs": [],
   "source": [
    "grade = float(input('enter your grade (0-20) : '))\n",
    "\n",
    "if grade > 16:\n",
    "    print('Tres bien')\n",
    "elif grade in range(14, 15 + 1):\n",
    "    print('Bien')\n",
    "elif grade in range(12, 13 + 1): # the + 1 because the second argument of the range function is exclusive\n",
    "    print('Assez bien')\n",
    "elif grade in range(10, 11 + 1):\n",
    "    print('Passable')\n",
    "else :\n",
    "    print(\"Insufissant\")"
   ]
  },
  {
   "cell_type": "markdown",
   "metadata": {},
   "source": [
    "3. wrtie a program that asks th user for three numbers and prints the largest one"
   ]
  },
  {
   "cell_type": "code",
   "execution_count": null,
   "metadata": {},
   "outputs": [],
   "source": [
    "print(\"print three numbers: \")\n",
    "\n",
    "three_numbers = []\n",
    "for n in range(3):\n",
    "    n = int(input('>>>'))\n",
    "    three_numbers.append(n) # here after we receive the number from the user we adding it directly to the list\n",
    "\n",
    "print(f\"the largest number you printed is {max(three_numbers)}\")\n",
    "\n"
   ]
  },
  {
   "cell_type": "markdown",
   "metadata": {},
   "source": [
    "# Exercice 4: loops (for/while)"
   ]
  },
  {
   "cell_type": "markdown",
   "metadata": {},
   "source": [
    "1. write a program that prints all even numbers between 1 and 50 using a for loop"
   ]
  },
  {
   "cell_type": "code",
   "execution_count": null,
   "metadata": {},
   "outputs": [],
   "source": [
    "for n in range(1, 50):\n",
    "    if n % 2 == 0:\n",
    "        print(n)"
   ]
  },
  {
   "cell_type": "markdown",
   "metadata": {},
   "source": [
    "2. write a program that uses a while loop to calculate the factoriel of a number entered by the user."
   ]
  },
  {
   "cell_type": "code",
   "execution_count": null,
   "metadata": {},
   "outputs": [],
   "source": [
    "num = int(input('enter a number: '))\n",
    "fact = 1\n",
    "i = 1\n",
    "\n",
    "while i <= num:\n",
    "    fact *= i\n",
    "    i += 1\n",
    "\n",
    "print(fact)"
   ]
  },
  {
   "cell_type": "markdown",
   "metadata": {},
   "source": [
    "3. write a program that prints the following pattern using nested loops"
   ]
  },
  {
   "cell_type": "code",
   "execution_count": 25,
   "metadata": {},
   "outputs": [
    {
     "name": "stdout",
     "output_type": "stream",
     "text": [
      "*\n",
      "**\n",
      "***\n",
      "****\n"
     ]
    }
   ],
   "source": [
    "n = int(input('enter the number of rows: '))\n",
    "\n",
    "for i in range(1, n + 1):\n",
    "    for j in range(1, i + 1):\n",
    "        print(\"*\", end=\"\")\n",
    "    print()"
   ]
  },
  {
   "cell_type": "markdown",
   "metadata": {},
   "source": [
    "# Exercice 5: Strings\n",
    " "
   ]
  },
  {
   "cell_type": "markdown",
   "metadata": {},
   "source": [
    "1. write a program that asks the user for  a sentence and counts the number of vowels (a, e, i, o, u) in it "
   ]
  },
  {
   "cell_type": "code",
   "execution_count": null,
   "metadata": {},
   "outputs": [],
   "source": [
    "string = input('enter a text to count the numebr of vowels in it: ')\n",
    "\n",
    "vowels = ['a', 'e', 'i', 'o', 'u']\n",
    "vowels_count = 0\n",
    "for c in string: # we loop on each letter in the text\n",
    "    if c in vowels: # we check if c the letter is vowel or not\n",
    "        vowels_count += 1 # if the c is in vowels list we add 1 to the vowel counter\n",
    "\n",
    "print(f'the number of vowels in your text is {vowels_count}')"
   ]
  },
  {
   "cell_type": "markdown",
   "metadata": {},
   "source": [
    "2. wrtie a program that asks the user for a word and check if it starts with a vowel.\n"
   ]
  },
  {
   "cell_type": "code",
   "execution_count": null,
   "metadata": {},
   "outputs": [],
   "source": [
    "word = input('enter a word: ')\n",
    "vowels = ['a', 'e', 'i', 'o', 'u']\n",
    "\n",
    "if word[0] in vowels:\n",
    "    print(True)\n",
    "else:\n",
    "    print(False)"
   ]
  },
  {
   "cell_type": "markdown",
   "metadata": {},
   "source": [
    "3. wrtie a program that replaces all spaces in a sentence with underscores."
   ]
  },
  {
   "cell_type": "code",
   "execution_count": 46,
   "metadata": {},
   "outputs": [
    {
     "name": "stdout",
     "output_type": "stream",
     "text": [
      "do_it_now_\n"
     ]
    }
   ],
   "source": [
    "sentence = input('enter a sentence to check : ')\n",
    "\n",
    "sentence = [c for c in sentence] # this is a list comprehension, store each character into this list\n",
    "\n",
    "for i in range(0, len(sentence)):\n",
    "    if sentence[i] == \" \": # check each index if its value equat to a space\n",
    "        sentence[i] = \"_\" # if true replace it by a underscore\n",
    "\n",
    "sentence_replaced = \"\".join(sentence) # convert the list into str \n",
    "\n",
    "print(sentence_replaced)\n"
   ]
  },
  {
   "cell_type": "markdown",
   "metadata": {},
   "source": [
    "# Exercice 6 : Lists"
   ]
  },
  {
   "cell_type": "markdown",
   "metadata": {},
   "source": [
    "1. wrtie a program that creates a lsit of 10 random numbers between 1 and 100 and prints:   \n",
    "    - the list\n",
    "    - the average of the numbers"
   ]
  },
  {
   "cell_type": "code",
   "execution_count": 49,
   "metadata": {},
   "outputs": [
    {
     "name": "stdout",
     "output_type": "stream",
     "text": [
      "[14, 53, 71, 44, 3, 1, 19, 1, 93, 97, 75]\n",
      "the average of the nmbers is 42.82\n"
     ]
    }
   ],
   "source": [
    "import random # this librari we will use it to return random number \n",
    "\n",
    "numbers_random = []\n",
    "for n in range(11):\n",
    "    n = random.randint(1, 100) # returnh a random number between 1 and 100\n",
    "    numbers_random.append(n)\n",
    "\n",
    "# print the list\n",
    "print(numbers_random)\n",
    "\n",
    "# the average of the numbers\n",
    "average = sum(numbers_random)/len(numbers_random)\n",
    "print('the average of the nmbers is {:.2f}'.format(average))"
   ]
  },
  {
   "cell_type": "markdown",
   "metadata": {},
   "source": [
    "2. write a program that asks the user for 5 numbers, stores them in a list, and prints the list in reverse order.\n"
   ]
  },
  {
   "cell_type": "code",
   "execution_count": 50,
   "metadata": {},
   "outputs": [
    {
     "name": "stdout",
     "output_type": "stream",
     "text": [
      "print 5 numbers: \n",
      "the reversed numbers list is [3, 33, 43, 53, 33, 34]\n"
     ]
    }
   ],
   "source": [
    "print(\"print 5 numbers: \")\n",
    "\n",
    "numbers = [] # empty list to store the numbers\n",
    "\n",
    "for i in range(5):\n",
    "    i = int(input('>>>'))\n",
    "    numbers.append(i) # store each number to the empty list\n",
    "\n",
    "numbers_reverse = list(reversed(numbers))\n",
    "print(f'the reversed numbers list is {numbers_reverse}')"
   ]
  },
  {
   "cell_type": "markdown",
   "metadata": {},
   "source": [
    "3. write a program that removes all negative numbers from a list and prints the updated list."
   ]
  },
  {
   "cell_type": "code",
   "execution_count": 51,
   "metadata": {},
   "outputs": [
    {
     "name": "stdout",
     "output_type": "stream",
     "text": [
      "the updated list is [12, 5, 65]\n"
     ]
    }
   ],
   "source": [
    "numbers = [12, -4, 5, -65, 65, -6534]\n",
    "\n",
    "for n in numbers:\n",
    "    if n < 0:\n",
    "        numbers.remove(n)\n",
    "\n",
    "print(f'the updated list is {numbers}')"
   ]
  },
  {
   "cell_type": "markdown",
   "metadata": {},
   "source": [
    "4. wrtie a program that merges two lists into one and prints the compined list"
   ]
  },
  {
   "cell_type": "code",
   "execution_count": 52,
   "metadata": {},
   "outputs": [
    {
     "name": "stdout",
     "output_type": "stream",
     "text": [
      "the compined list is [123, 32, 234, 23, 33, 3, 543, 543]\n"
     ]
    }
   ],
   "source": [
    "list1 = [123,32 ,234, 23]\n",
    "list2 = [33, 3, 543, 543]\n",
    "\n",
    "list3 = list1 + list2\n",
    "print(f'the compined list is {list3}')"
   ]
  },
  {
   "cell_type": "markdown",
   "metadata": {},
   "source": [
    "5. write a progrma that finds and prints the index of a specific element in a list. if the element is not found, print \"element non trouve\""
   ]
  },
  {
   "cell_type": "code",
   "execution_count": 5,
   "metadata": {},
   "outputs": [
    {
     "name": "stdout",
     "output_type": "stream",
     "text": [
      "element non trouve\n"
     ]
    }
   ],
   "source": [
    "# set the elements as a students names\n",
    "students = ['hamza', 'hassan', 'mohemmed', 'ahmed']\n",
    "\n",
    "spe_element = input('enter a specific element to find its index in the list: ')\n",
    "\n",
    "if spe_element in students:\n",
    "    index_spe_element = students.index(spe_element)\n",
    "    print(f'the index of the spercific element is {index_spe_element}')\n",
    "else:\n",
    "    print('element non trouve')\n"
   ]
  },
  {
   "cell_type": "markdown",
   "metadata": {},
   "source": []
  }
 ],
 "metadata": {
  "kernelspec": {
   "display_name": "Python 3",
   "language": "python",
   "name": "python3"
  },
  "language_info": {
   "codemirror_mode": {
    "name": "ipython",
    "version": 3
   },
   "file_extension": ".py",
   "mimetype": "text/x-python",
   "name": "python",
   "nbconvert_exporter": "python",
   "pygments_lexer": "ipython3",
   "version": "3.13.1"
  }
 },
 "nbformat": 4,
 "nbformat_minor": 2
}
