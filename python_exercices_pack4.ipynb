{
 "cells": [
  {
   "cell_type": "markdown",
   "metadata": {},
   "source": [
    "### Exercice 1: Affichage de texte\n"
   ]
  },
  {
   "cell_type": "markdown",
   "metadata": {},
   "source": [
    "1. Écrivez un programme Python qui affiche le message suivant :\n",
    "\n",
    "`Bonjour tout le monde !`\n",
    "\n"
   ]
  },
  {
   "cell_type": "code",
   "execution_count": null,
   "metadata": {},
   "outputs": [],
   "source": [
    "print('Bonjour tout le monde')"
   ]
  },
  {
   "cell_type": "markdown",
   "metadata": {},
   "source": [
    "### Exercice 2 : Entrée/Sortie simple"
   ]
  },
  {
   "cell_type": "markdown",
   "metadata": {},
   "source": [
    "Task: Write a program that asks for the user's name and age, then prints:\n",
    "\n",
    "  `Bonjour [name], vous avez [age] ans.`"
   ]
  },
  {
   "cell_type": "code",
   "execution_count": null,
   "metadata": {},
   "outputs": [],
   "source": [
    "nom = input('quel est votre nom?: ')\n",
    "age = int(int('quel age avez-vous?')) # int pour convertir age vers un nombre entier (interger)\n",
    "print(\"Bonjour {}, vous avez {} ans.\".format(nom, age))"
   ]
  },
  {
   "cell_type": "markdown",
   "metadata": {},
   "source": [
    "### Exercice 3 : Opérations arithmétiques"
   ]
  },
  {
   "cell_type": "markdown",
   "metadata": {},
   "source": [
    "Tâche : Écrivez un programme qui effectue les calculs suivants avec les deux variable (a=6, b=2) :\n",
    "\n",
    "- la somme de a et b\n",
    "- le produit de a et b\n",
    "- le quotient de a et b\n",
    "- le reste de la division de a sur b"
   ]
  },
  {
   "cell_type": "code",
   "execution_count": null,
   "metadata": {},
   "outputs": [],
   "source": [
    "a, b = 6, 2 # declaration des deux variable dans une line \n",
    "\n",
    "# la somme \n",
    "somme = a + b\n",
    "print(somme)\n",
    "\n",
    "# le produit\n",
    "pro = a * b \n",
    "print(pro)\n",
    "\n",
    "# le quotient \n",
    "quo = a / b\n",
    "print(quo)\n",
    "\n",
    "# le reste\n",
    "reste = a % b \n",
    "print(reste)"
   ]
  },
  {
   "cell_type": "markdown",
   "metadata": {},
   "source": [
    "### Exercice 4 : Instructions conditionnelles"
   ]
  },
  {
   "cell_type": "markdown",
   "metadata": {},
   "source": [
    "Tâche : Écrivez un programme qui demande un nombre à l’utilisateur et affiche si ce nombre est positif, négatif ou nul."
   ]
  },
  {
   "cell_type": "code",
   "execution_count": null,
   "metadata": {},
   "outputs": [],
   "source": [
    "nombre = int(input('entrez un nombre: ')) # fnadarak 3lach darna int\n",
    "if nombre > 0:\n",
    "    print('{} est positive'.format(nombre))\n",
    "elif nombre < 0:\n",
    "    print('{} est negative'.format(nombre))\n",
    "else:\n",
    "    print('{} est null'.format(nombre))"
   ]
  },
  {
   "cell_type": "markdown",
   "metadata": {},
   "source": [
    "### Exercice 5 : Boucle while\n"
   ]
  },
  {
   "cell_type": "markdown",
   "metadata": {},
   "source": [
    "Tâche : Écrivez un programme qui continue de demander un nombre à l’utilisateur jusqu’à ce qu’il entre 0."
   ]
  },
  {
   "cell_type": "code",
   "execution_count": null,
   "metadata": {},
   "outputs": [],
   "source": [
    "nombre = int(input('entrer un nombre (0 pour arret): '))\n",
    "\n",
    "while nombre != 0 :\n",
    "    nombre = int(input('entrer un nombre (0 pour arret): '))\n",
    "print('arret de programme')"
   ]
  },
  {
   "cell_type": "markdown",
   "metadata": {},
   "source": [
    "### Exercice 5: Boucle for "
   ]
  },
  {
   "cell_type": "markdown",
   "metadata": {},
   "source": [
    "Tâche : Écrivez un programme qui affiche le tableu de multiplication d'un nombre entrer par l'utilisateur"
   ]
  },
  {
   "cell_type": "code",
   "execution_count": null,
   "metadata": {},
   "outputs": [],
   "source": [
    "num = int(input('entrez un nombre: '))\n",
    "\n",
    "for i in range(11):\n",
    "    print(\"{} * {} = {}\".format(num, i, num*i))"
   ]
  },
  {
   "cell_type": "markdown",
   "metadata": {},
   "source": [
    "### Exercice 7 : Opérations sur les chaînes de caractères"
   ]
  },
  {
   "cell_type": "markdown",
   "metadata": {},
   "source": [
    "Tâche : Écrivez un programme qui prend la chaîne \"Python\" et :\n",
    "\n",
    "- Affiche sa longueur.\n",
    "-  le premier et le dernier caractère.\n",
    "- Affiche la chaîne inversée."
   ]
  },
  {
   "cell_type": "code",
   "execution_count": null,
   "metadata": {},
   "outputs": [],
   "source": [
    "chaine = str(input('entrez un chaine de caractere: ')) # str bach n2akdo bli chaine tkon string\n",
    "\n",
    "# sa longueur\n",
    "print(len(chaine))\n",
    "\n",
    "# le premier et le dernier caracter\n",
    "p_caracter = chaine[0]\n",
    "d_caracter = chaine[-1]\n",
    "print(\"le premier caracter est {} et le dernier caracter est {}\".format(p_caracter, d_caracter))\n",
    "\n",
    "# affiche la chaine inversee\n",
    "chaine_inversee = chaine[::-1]\n",
    "print(chaine_inversee)"
   ]
  },
  {
   "cell_type": "markdown",
   "metadata": {},
   "source": [
    "### Exercice 8: Listes"
   ]
  },
  {
   "cell_type": "markdown",
   "metadata": {},
   "source": [
    "Tâche : Créez une liste contenant les nombres 1, 2, 3, 4, 5.\n",
    "\n",
    "- Affichez le deuxième nombre.\n",
    "- Ajoutez 6 à la liste.\n",
    "- Supprimez le nombre 3."
   ]
  },
  {
   "cell_type": "code",
   "execution_count": null,
   "metadata": {},
   "outputs": [],
   "source": [
    "liste = [1, 2, 3, 4, 5] # 3ndak tnsa dik e list bohdha liste avec e bohdha \n",
    "\n",
    "# afficher le douxieme nombre\n",
    "print(liste[1])\n",
    "\n",
    "# ajoutez 6 a la list\n",
    "liste.append(6)\n",
    "\n",
    "# supprimez le nombre 3\n",
    "liste.remove(3) # hadi ila briti tamsah par les valeur\n",
    "liste.pop(2) # hadi ila briti b les indices\n",
    "\n",
    "print(liste)"
   ]
  },
  {
   "cell_type": "markdown",
   "metadata": {},
   "source": [
    "### Exercice 10 : Nombres aléatoires"
   ]
  },
  {
   "cell_type": "markdown",
   "metadata": {},
   "source": [
    "Tâche : Écrivez un programme qui génère un nombre aléatoire entre 1 et 100 et l’affiche.\n",
    "(Hint : Utilisez la bibliothèque random.)"
   ]
  },
  {
   "cell_type": "code",
   "execution_count": null,
   "metadata": {},
   "outputs": [],
   "source": [
    "import random\n",
    "random_num = random.randint(1, 100)\n",
    "print(random_num)"
   ]
  },
  {
   "cell_type": "markdown",
   "metadata": {},
   "source": []
  }
 ],
 "metadata": {
  "kernelspec": {
   "display_name": "Python 3",
   "language": "python",
   "name": "python3"
  },
  "language_info": {
   "codemirror_mode": {
    "name": "ipython",
    "version": 3
   },
   "file_extension": ".py",
   "mimetype": "text/x-python",
   "name": "python",
   "nbconvert_exporter": "python",
   "pygments_lexer": "ipython3",
   "version": "3.13.1"
  }
 },
 "nbformat": 4,
 "nbformat_minor": 2
}
