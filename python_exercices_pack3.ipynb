{
 "cells": [
  {
   "cell_type": "markdown",
   "metadata": {},
   "source": [
    "### check your python preparations from this pack N.3 with Bouzian "
   ]
  },
  {
   "cell_type": "markdown",
   "metadata": {},
   "source": [
    "# Exercice 1: Basic syntax and in;ut/output"
   ]
  },
  {
   "cell_type": "markdown",
   "metadata": {},
   "source": [
    "1. write a program that asks the user for their first name and last name, then prints:"
   ]
  },
  {
   "cell_type": "markdown",
   "metadata": {},
   "source": [
    "Boujour `fist name` `last name` !"
   ]
  },
  {
   "cell_type": "code",
   "execution_count": null,
   "metadata": {},
   "outputs": [],
   "source": [
    "first_name = input('enter your first name: ')\n",
    "last_name = input('enter your last name: ')\n",
    "\n",
    "print(f'Boujour {first_name} {last_name} ')"
   ]
  },
  {
   "cell_type": "markdown",
   "metadata": {},
   "source": [
    "2. write a program that calculates the area fo a circle. ask the user for the radius and use the formula: Area = π * r²"
   ]
  },
  {
   "cell_type": "code",
   "execution_count": null,
   "metadata": {},
   "outputs": [],
   "source": [
    "import math\n",
    "radius = float(input('enter the value of the radius: '))\n",
    "\n",
    "area = math.pi * radius ** 2\n",
    "\n",
    "print('the area of the circle is {:.2f}'.format(area))"
   ]
  },
  {
   "cell_type": "markdown",
   "metadata": {},
   "source": [
    "3. write a program that asks the user for their heiht (in meters) and weight (in kilograms), then calculates and prints their BMI (Body Mass Index) "
   ]
  },
  {
   "cell_type": "code",
   "execution_count": null,
   "metadata": {},
   "outputs": [],
   "source": [
    "height = float(input('enter your height: '))\n",
    "weidth = float(input('enter your weidth: '))\n",
    "\n",
    "BMI = weidth / (height * height)\n",
    "\n",
    "print(f'the body mass index is {BMI}')"
   ]
  },
  {
   "cell_type": "markdown",
   "metadata": {},
   "source": [
    "# Exercice 2 : calculations and operators"
   ]
  },
  {
   "cell_type": "markdown",
   "metadata": {},
   "source": [
    "1. Write a program that calculates the compound interest using the formula:\n",
    "\n",
    "A = P * (1 + r/n)^(n*t)\n",
    "\n",
    "Where:\n",
    "\n",
    "- P = principal amount (ask the user)\n",
    "\n",
    "- r = annual interest rate (ask the user)\n",
    "\n",
    "- n = number of times interest is compounded per year (ask the user)\n",
    "\n",
    "- t = time in years (ask the user)"
   ]
  },
  {
   "cell_type": "code",
   "execution_count": null,
   "metadata": {},
   "outputs": [],
   "source": [
    "P = float(input('enter the principal amount: '))\n",
    "r = float(input('enter the annual interest rate: '))\n",
    "n = int(input('enter the number of times in interest is compounded per years: '))\n",
    "t = int(input('enter the time in years'))\n",
    "\n",
    "A = P * (1 + r/n) ** (n * t)\n",
    "\n",
    "print(f'the compound interst is {A}')"
   ]
  },
  {
   "cell_type": "markdown",
   "metadata": {},
   "source": [
    "2. write a program that converts a binary number to its dicimal equivalent."
   ]
  },
  {
   "cell_type": "code",
   "execution_count": 6,
   "metadata": {},
   "outputs": [
    {
     "name": "stdout",
     "output_type": "stream",
     "text": [
      "100101 is 37 in decimal number\n"
     ]
    }
   ],
   "source": [
    "binary_num = \"100101\"\n",
    "\n",
    "dic_num = int(binary_num, 2)\n",
    "print(f'{binary_num} is {dic_num} in decimal number')"
   ]
  },
  {
   "cell_type": "markdown",
   "metadata": {},
   "source": [
    "3. write a program that calculates the roots of a quadratic equation."
   ]
  },
  {
   "cell_type": "code",
   "execution_count": null,
   "metadata": {},
   "outputs": [],
   "source": [
    "import math\n",
    "\n",
    "a = int(input('enter the a value: '))\n",
    "b = int(input('enter the b value: '))\n",
    "c = int(input('enter the c value: '))\n",
    "\n",
    "delta = b**2 - 4*a*c\n",
    "\n",
    "x1 = (-b + math.sqrt(delta))/2*a \n",
    "x2 = (-b - math.sqrt(delta))/2*a \n",
    "print(f'the solutions of the equation are {x1, x2 }') # try in your code to get just two numbers after the \".\" \n"
   ]
  },
  {
   "cell_type": "markdown",
   "metadata": {},
   "source": [
    "# Exercice 3: conditionals (if/else)"
   ]
  },
  {
   "cell_type": "markdown",
   "metadata": {},
   "source": [
    "1. write a program that asks the user for three numbers and prints them in ascending order"
   ]
  },
  {
   "cell_type": "code",
   "execution_count": null,
   "metadata": {},
   "outputs": [],
   "source": [
    "num1 = int(input('enter the first number: '))\n",
    "num2 = int(input('enter the second number: '))\n",
    "num3 = int(input('enter the therd number: '))\n",
    "\n",
    "numbers = [num1, num2, num3]\n",
    "\n",
    "numbers.sort()\n",
    "print(numbers)"
   ]
  },
  {
   "cell_type": "markdown",
   "metadata": {},
   "source": [
    "2. write a program that checks if a year entered by the user is leap year. a leap year is divisible by 4 but not by 100 unless it is also divisible by 400.\n"
   ]
  },
  {
   "cell_type": "code",
   "execution_count": null,
   "metadata": {},
   "outputs": [],
   "source": [
    "year = int(input('enter a year to ckeck: '))\n",
    "\n",
    "if (year % 4 == 0 and year % 100 != 0) or year % 400 == 0:\n",
    "    print(f\"{True} {year} is a leap year\")\n",
    "else :\n",
    "    print(f\"{False} {year} is not a leap year\")"
   ]
  },
  {
   "cell_type": "markdown",
   "metadata": {},
   "source": [
    "3. Write a program that simulates a simple login system. Ask the user for a username and password. If the username is \"admin\" and the password is \"1234\", print \"Accès autorisé.\" Otherwise, print \"Accès refusé.\""
   ]
  },
  {
   "cell_type": "code",
   "execution_count": null,
   "metadata": {},
   "outputs": [],
   "source": [
    "username = input('enter uour username: ')\n",
    "password = input('enter your password: ')\n",
    "\n",
    "if username == \"admin\" and password == \"1234\":\n",
    "    print(\"Accès autorisé.\")\n",
    "else:\n",
    "    print(\"Accès refusé.\")"
   ]
  },
  {
   "cell_type": "markdown",
   "metadata": {},
   "source": [
    "# Exercice 4 : Loops (for/while)"
   ]
  },
  {
   "cell_type": "markdown",
   "metadata": {},
   "source": [
    "1. write a program that prints the first 10 prime numbers.\n"
   ]
  },
  {
   "cell_type": "code",
   "execution_count": 23,
   "metadata": {},
   "outputs": [
    {
     "name": "stdout",
     "output_type": "stream",
     "text": [
      "[2, 3, 5, 7, 11, 13, 17, 19, 23, 29]\n"
     ]
    }
   ],
   "source": [
    "first_10_prime = [] \n",
    "num = 2  \n",
    "\n",
    "while len(first_10_prime) < 10:\n",
    "    is_prime = True\n",
    "    for j in range(2, int(num ** 0.5) + 1): \n",
    "        if num % j == 0: \n",
    "            is_prime = False\n",
    "            break\n",
    "    if is_prime:\n",
    "        first_10_prime.append(num)\n",
    "    num += 1\n",
    "\n",
    "print(first_10_prime)"
   ]
  },
  {
   "cell_type": "markdown",
   "metadata": {},
   "source": [
    "2. write a program tha uses a while loop to find the smallest nuber divisible by both 7 and 11."
   ]
  },
  {
   "cell_type": "code",
   "execution_count": null,
   "metadata": {},
   "outputs": [],
   "source": [
    "number = 1 # we start with 1\n",
    "\n",
    "while True:\n",
    "    if number % 7 == 0 and number % 11 == 0: # check if the number is divisble by both 7 and 11 \n",
    "        break # this condition if true the loop must to break \n",
    "    number += 1 # we add 1 to the number to repeat the loop\n",
    "\n",
    "print(f'the smallest number divisible by both 7 and 11 is {number}')"
   ]
  },
  {
   "cell_type": "markdown",
   "metadata": {},
   "source": [
    "3. write a program that prints the following pattern using nested loops:\n",
    "\n",
    "1\n",
    "\n",
    "22\n",
    "\n",
    "333\n",
    "\n",
    "4444\n",
    "\n",
    "55555"
   ]
  },
  {
   "cell_type": "code",
   "execution_count": 43,
   "metadata": {},
   "outputs": [
    {
     "name": "stdout",
     "output_type": "stream",
     "text": [
      "1\n",
      "22\n",
      "333\n",
      "4444\n",
      "55555\n"
     ]
    }
   ],
   "source": [
    "for i in range(1, 6):\n",
    "    for j in range(i):\n",
    "        print(i, end=\"\")\n",
    "    print()"
   ]
  },
  {
   "cell_type": "markdown",
   "metadata": {},
   "source": [
    "4. Write a program that simulates a guessing game. The program generates a random number between 1 and 100, and the user has to guess it. Provide hints like \"Too high\" or \"Too low\" until the user guesses correctly."
   ]
  },
  {
   "cell_type": "code",
   "execution_count": 5,
   "metadata": {},
   "outputs": [
    {
     "name": "stdout",
     "output_type": "stream",
     "text": [
      "too low, repeat\n",
      "too hight, repeat\n",
      "congractulation you got it 6\n"
     ]
    }
   ],
   "source": [
    "from random import randint \n",
    "\n",
    "\n",
    "computer_guessing = randint(1, 10) # generate a random number between 1 and 10\n",
    "user_guessing = int(input('guess a number: ')) # promp a number from the user\n",
    "\n",
    "while True:\n",
    "    if computer_guessing == user_guessing:\n",
    "        print(f'Congratulations! You got it right. The number was {computer_guessing}')\n",
    "        break # if the user number equal to the computer number  break from the loop \n",
    "    if computer_guessing > user_guessing:\n",
    "        print('too low, repeat')\n",
    "        user_guessing = int(input('guess a number: '))  # repeat if the user number less then computer number\n",
    "\n",
    "    if computer_guessing < user_guessing:\n",
    "        print('too hight, repeat')\n",
    "        user_guessing = int(input('guess a number: ')) # repeat if the user number greater then computer number\n",
    "        \n",
    "    \n",
    "    user_guessing = int(input('guess a number: '))\n",
    "    \n"
   ]
  },
  {
   "cell_type": "markdown",
   "metadata": {},
   "source": [
    "# Exercice 5: strings"
   ]
  },
  {
   "cell_type": "markdown",
   "metadata": {},
   "source": [
    "1. write a progrm that ask the user for a sentencde and counts the number of words in it.\n"
   ]
  },
  {
   "cell_type": "code",
   "execution_count": null,
   "metadata": {},
   "outputs": [],
   "source": [
    "sentence = input('enter a sentence: ') # prompt a sentence from the user\n",
    " \n",
    "sentence = sentence.strip().split() # split the sentence and convert it to a list to present each word\n",
    "word_count = 0\n",
    "for word in sentence:\n",
    "    word_count += 1 # loop on each word and add 1 to the words counter\n",
    "\n",
    "print(f'the number of words in your sentence is {word_count}')"
   ]
  },
  {
   "cell_type": "markdown",
   "metadata": {},
   "source": [
    "2. write a program tha checks if a string entered by the user is a pangram (contains every letter of the alphabet at least once)"
   ]
  },
  {
   "cell_type": "code",
   "execution_count": null,
   "metadata": {},
   "outputs": [],
   "source": [
    "import string\n",
    "String = input('enter a string to check: ').lower()\n",
    "\n",
    "alphabet = set(\"abcdefghijklmnopqrstuvwxyz\")\n",
    "\n",
    "pangram = alphabet.issubset(set(String))\n",
    "\n",
    "if pangram:\n",
    "    print('the string is pangram')\n",
    "else:\n",
    "    print('the sentence is not pangram ')"
   ]
  },
  {
   "cell_type": "markdown",
   "metadata": {},
   "source": [
    "3. Write a program that capitalizes the first letter of each word in a sentence entered by the user."
   ]
  },
  {
   "cell_type": "code",
   "execution_count": null,
   "metadata": {},
   "outputs": [],
   "source": [
    "sentence = input('enter a string: ')\n",
    "\n",
    "sentence = sentence.strip().split() # split each word of the string\n",
    "sentence_cap = [] # initial an empty list to containes capitalize words\n",
    "for w in sentence:\n",
    "    w_cap = w.capitalize() # we use the capitalize methode \n",
    "    sentence_cap.append(w_cap) # add the capitalized word to the empty list\n",
    "\n",
    "print(f'the capitalization of the first letter of each word is {\" \".join(sentence_cap)}') # the join method convert our list to a str"
   ]
  },
  {
   "cell_type": "markdown",
   "metadata": {},
   "source": [
    "# Exercice 6 : Lists"
   ]
  },
  {
   "cell_type": "markdown",
   "metadata": {},
   "source": [
    "1. write a program that creates a list of 10 random numbers between 1 and 100 and prints:\n",
    "    - the list\n",
    "    - the sum of the numbers \n",
    "    - the largest and smallest numbers."
   ]
  },
  {
   "cell_type": "code",
   "execution_count": null,
   "metadata": {},
   "outputs": [],
   "source": [
    "from random import randint\n",
    "num_list = []\n",
    "for n in range(10):\n",
    "    n = randint(1, 100)\n",
    "    num_list.append(n)\n",
    "\n",
    "# print the list \n",
    "print(num_list) \n",
    "\n",
    "# the sum of the numbers\n",
    "\n",
    "print(sum(num_list))\n",
    "\n",
    "# the largest and the smallest numbers\n",
    "\n",
    "print(f'the largest number is {max(num_list)} and the smallest is {min(num_list)}')"
   ]
  },
  {
   "cell_type": "markdown",
   "metadata": {},
   "source": [
    "2. write a program that removes all duplicates elements form a list and prints the updated list.\n"
   ]
  },
  {
   "cell_type": "code",
   "execution_count": 18,
   "metadata": {},
   "outputs": [
    {
     "name": "stdout",
     "output_type": "stream",
     "text": [
      "the updated list is ['apple', 'juis', 'milk', 'butter']\n"
     ]
    }
   ],
   "source": [
    "products = ['apple', 'juis', 'milk', 'butter', 'butter', 'apple']\n",
    "\n",
    "# remvoe all duplicates elements \n",
    "\n",
    "remove_dup = list(set(products))\n",
    "\n",
    "print(f'the updated list is {remove_dup}')\n"
   ]
  },
  {
   "cell_type": "markdown",
   "metadata": {},
   "source": [
    "4. write a progrma that simulate a lottery. Generate a list of 6 random numbers between 1 and 94 (no duplicates) and print them in ascending order"
   ]
  },
  {
   "cell_type": "code",
   "execution_count": 20,
   "metadata": {},
   "outputs": [
    {
     "name": "stdout",
     "output_type": "stream",
     "text": [
      "[3, 6, 11, 20, 27, 30]\n"
     ]
    }
   ],
   "source": [
    "from random import randint\n",
    "list_num = []\n",
    "\n",
    "for n in range(6):\n",
    "    n = randint(1, 50)\n",
    "    list_num.append(n)\n",
    "# print them in ascending order\n",
    "\n",
    "list_num.sort()\n",
    "print(f'the sorted list in ascending order is {list_num}')"
   ]
  },
  {
   "cell_type": "markdown",
   "metadata": {},
   "source": [
    "5. write a program that checks if two lists are anagrams of each other (contain the same elements but in a different order)"
   ]
  },
  {
   "cell_type": "code",
   "execution_count": null,
   "metadata": {},
   "outputs": [],
   "source": [
    "list1 = [23, 33, 32, 43]\n",
    "list2 = [32, 35, 43, 45] # list 2 should return false \n",
    "list3 = list(reversed(list1)) # this list now should return true\n",
    "\n",
    "if sorted(list1) == sorted(list3):\n",
    "    print(f'{True} the two lists are anagrams of each other')\n",
    "else:\n",
    "    print(f\"{False} the two lists are not anagrams of each other.\")"
   ]
  },
  {
   "cell_type": "code",
   "execution_count": null,
   "metadata": {},
   "outputs": [],
   "source": []
  }
 ],
 "metadata": {
  "kernelspec": {
   "display_name": "Python 3",
   "language": "python",
   "name": "python3"
  },
  "language_info": {
   "codemirror_mode": {
    "name": "ipython",
    "version": 3
   },
   "file_extension": ".py",
   "mimetype": "text/x-python",
   "name": "python",
   "nbconvert_exporter": "python",
   "pygments_lexer": "ipython3",
   "version": "3.13.1"
  }
 },
 "nbformat": 4,
 "nbformat_minor": 2
}
